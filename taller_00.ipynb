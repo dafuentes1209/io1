{
  "nbformat": 4,
  "nbformat_minor": 0,
  "metadata": {
    "colab": {
      "provenance": [],
      "toc_visible": true,
      "authorship_tag": "ABX9TyOcE/GdSmo7Kchg2fjVxuGW",
      "include_colab_link": true
    },
    "kernelspec": {
      "name": "python3",
      "display_name": "Python 3"
    },
    "language_info": {
      "name": "python"
    }
  },
  "cells": [
    {
      "cell_type": "markdown",
      "metadata": {
        "id": "view-in-github",
        "colab_type": "text"
      },
      "source": [
        "<a href=\"https://colab.research.google.com/github/dafuentes1209/io1/blob/main/taller_00.ipynb\" target=\"_parent\"><img src=\"https://colab.research.google.com/assets/colab-badge.svg\" alt=\"Open In Colab\"/></a>"
      ]
    },
    {
      "cell_type": "code",
      "execution_count": null,
      "metadata": {
        "colab": {
          "base_uri": "https://localhost:8080/"
        },
        "id": "VUMLjbzecXTg",
        "outputId": "12b58d8c-6d09-4d65-cffc-0d90c2aad6cf"
      },
      "outputs": [
        {
          "output_type": "stream",
          "name": "stdout",
          "text": [
            "Hola mundo\n",
            "['a', 'b', 'c']\n",
            "a\n",
            "b\n",
            "c\n"
          ]
        }
      ],
      "source": [
        "# Primer hola mundo en colab\n",
        "print(\"Hola mundo\")\n",
        "\n",
        "# Definiendo la lista_0\n",
        "lista_0=[\"a\", \"b\", \"c\"]\n",
        "\n",
        "# Mostrar lista\n",
        "print(lista_0)\n",
        "\n",
        "# Crear un ciclo for\n",
        "for i in lista_0:\n",
        "  print(i)"
      ]
    }
  ]
}